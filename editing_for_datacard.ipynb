{
  "nbformat": 4,
  "nbformat_minor": 0,
  "metadata": {
    "colab": {
      "provenance": [],
      "include_colab_link": true
    },
    "kernelspec": {
      "name": "python3",
      "display_name": "Python 3"
    },
    "language_info": {
      "name": "python"
    }
  },
  "cells": [
    {
      "cell_type": "markdown",
      "metadata": {
        "id": "view-in-github",
        "colab_type": "text"
      },
      "source": [
        "<a href=\"https://colab.research.google.com/github/UCLM-ESI-NECULA/DataMining/blob/master/editing_for_datacard.ipynb\" target=\"_parent\"><img src=\"https://colab.research.google.com/assets/colab-badge.svg\" alt=\"Open In Colab\"/></a>"
      ]
    },
    {
      "cell_type": "code",
      "execution_count": null,
      "metadata": {
        "id": "qiXmW4LBUmFC",
        "colab": {
          "base_uri": "https://localhost:8080/"
        },
        "outputId": "943adc30-6cd5-465a-c5b2-d7c098c3f736"
      },
      "outputs": [
        {
          "output_type": "stream",
          "name": "stdout",
          "text": [
            "Mounted at /content/drive\n"
          ]
        }
      ],
      "source": [
        "from google.colab import drive\n",
        "drive.mount('/content/drive')"
      ]
    },
    {
      "cell_type": "code",
      "source": [
        "!rm -rf sample_data/\n"
      ],
      "metadata": {
        "id": "Gu1XKsC5Voey"
      },
      "execution_count": null,
      "outputs": []
    },
    {
      "cell_type": "code",
      "source": [
        "DS1  = 'DS1-DatosConsumoAlimentario.txt'\n",
        "DS2  = 'DS2-PreciosSemanales.txt'\n",
        "DS3A = 'DS3A-DatosMercaMadrid.txt'\n",
        "DS3B = 'DS3B-DatosMercaBarna.txt'\n",
        "DS4  = 'DS4-ComercioExterior.txt'\n",
        "DS5  = 'DS5-CoronavirusCases.txt'\n",
        "DS6  = 'DS6-owid-covid-data.csv'\n",
        "\n",
        "\n",
        "DS3Transformed = 'DS3-Transformed'\n",
        "\n",
        "# Directory path\n",
        "dir_path = '/content/drive/MyDrive/mycolab/'"
      ],
      "metadata": {
        "id": "ySbtd5sfbfqO"
      },
      "execution_count": null,
      "outputs": []
    },
    {
      "cell_type": "markdown",
      "source": [
        "#Accessing the dataframes"
      ],
      "metadata": {
        "id": "52rzYPy9rKp8"
      }
    },
    {
      "cell_type": "code",
      "source": [
        "df1 = pd.read_csv(dir_path + DS1, sep='|',decimal=',')\n",
        "df1_products = sorted(df1['Producto'].unique())\n",
        "df1.head()\n",
        "\n",
        "df2 = pd.read_csv(dir_path + DS2, sep='|',decimal=',')\n",
        "products2 = df2['PRODUCTO'].unique()\n",
        "df2_products=[]\n",
        "\n",
        "for i in products2:\n",
        "  if i.strip() not in df2_products:\n",
        "    df2_products.append(i.rstrip())\n",
        "\n",
        "df2.head()\n",
        "\n",
        "df3 = pd.read_csv(dir_path + DS3, sep='|',decimal=',')\n",
        "products3 = sorted(df3['product'].unique())\n",
        "df3_products =[]\n",
        "\n",
        "for i in products3:\n",
        "  if i.strip() not in df2_products:\n",
        "    df3_products.append(i.rstrip())\n",
        "df3.head()\n",
        "\n",
        "print(df1_products)\n",
        "print(df2_products)\n",
        "print(df3_products)\n"
      ],
      "metadata": {
        "id": "spktb83wrBiK"
      },
      "execution_count": null,
      "outputs": []
    },
    {
      "cell_type": "code",
      "source": [
        "#comparing the products of 1 and 3 in order to understand what we don't have in common\n",
        "common_13=[]\n",
        "\n",
        "for product in df3_products:\n",
        "  if product in df1_products:\n",
        "    common_13.append(product)\n",
        "\n",
        "not_common= []\n",
        "\n",
        "for p in df1_products:\n",
        "  if p not in df3_products:\n",
        "    not_common.append(p)\n",
        "\n",
        "print(df1_products)\n",
        "print(not_common)\n"
      ],
      "metadata": {
        "id": "VWGvRr6krHH3"
      },
      "execution_count": null,
      "outputs": []
    },
    {
      "cell_type": "markdown",
      "source": [
        "#Categorizing the fruits of vegetables of ds1"
      ],
      "metadata": {
        "id": "80sq9uhwxiBO"
      }
    },
    {
      "cell_type": "code",
      "source": [
        "#Creating a dictionary for df3 so we can use it to label the products in df1\n",
        "\n",
        "product_types = {}\n",
        "\n",
        "for i1, row1 in df3.iterrows():\n",
        "    product_name = row1['product']\n",
        "    types = row1['familia']\n",
        "    product_types[product_name] = types\n",
        "\n",
        "def categorize_product(row):\n",
        "    frutas = ['FRUTAS IV GAMA','OTRAS FRUTAS FRESCAS','T.FRUTAS FRESCAS']\n",
        "    hortalizas =['OTR.HORTALIZAS/VERD.','PATATAS FRESCAS', 'PATATAS CONGELADAS',\n",
        "                 'PATATAS FRITAS', 'PATATAS PROCESADAS', 'T.HORTALIZAS FRESCAS',\n",
        "                 'TOTAL PATATAS','VERD./HORT. IV GAMA','VERDURAS DE HOJA']\n",
        "    product_name = row['Producto']\n",
        "    if product_name in product_types:\n",
        "        return product_types[product_name]\n",
        "    elif product_name in frutas:\n",
        "      product_type='FRUTAS'\n",
        "      product_types[product_name]=product_type\n",
        "      return product_types[product_name]\n",
        "    elif product_name in hortalizas:\n",
        "      product_type='HORTALIZAS'\n",
        "      product_types[product_name]=product_type\n",
        "      return product_types[product_name]\n",
        "    else:\n",
        "      return 'Other'\n",
        "\n",
        "#Applying categorization to create a new column 'Grupo' in df1\n",
        "\n",
        "df1['Grupo'] = df1.apply(categorize_product, axis=1)\n",
        "df1.reindex()\n",
        "df1 = df1.reindex(columns=['Año',\t'Mes',\t'CCAA',\t'Producto', 'Grupo' ,'Volumen (miles de kg)',\t'Valor (miles de €)','Precio medio kg',\t'Consumo per capita',\t'Gasto per capita'])\n",
        "\n"
      ],
      "metadata": {
        "id": "iDy1GxEH4zMO"
      },
      "execution_count": null,
      "outputs": []
    },
    {
      "cell_type": "markdown",
      "source": [
        "#Merge"
      ],
      "metadata": {
        "id": "Fo-OZ_uxG8oV"
      }
    },
    {
      "cell_type": "code",
      "source": [
        "import pandas as pd\n",
        "\n",
        "df1 = pd.read_csv('/content/drive/MyDrive/datacard/latest_datasets/Labeled_Cleaned_DS1-DatosConsumoAlimentario.txt', sep='|')\n",
        "df2 = pd.read_csv('/content/drive/MyDrive/datacard/latest_datasets/Cleaned_DS4-ComercioExterior.txt', sep='|')\n",
        "df3 = pd.read_csv('/content/drive/MyDrive/datacard/latest_datasets/Cleaned_DS6-owid-covid-data.csv')\n",
        "\n",
        "\n",
        "#Rename columns in df1\n",
        "df1 = df1.rename(columns={'Año': 'YEAR', 'Mes': 'MONTH'})\n",
        "\n",
        "#Rename columns in df3\n",
        "df3 = df3.rename(columns={'year': 'YEAR', 'month': 'MONTH', 'total_cases': 'TOTAL_CASES'})\n",
        "\n",
        "#Merge datasets based on 'YEAR' and 'MONTH'\n",
        "merged_df = pd.merge(df1, df2, on=['YEAR', 'MONTH'], how='inner')\n",
        "merged_df = pd.merge(merged_df, df3, on=['YEAR', 'MONTH'], how='left')\n",
        "\n",
        "#Replacing the NaN values with 0\n",
        "merged_df.fillna(0, inplace=True)\n",
        "\n",
        "merged_df.head()\n",
        "print(merged_df)\n",
        "\n",
        "#Save the merged dataset to a CSV file\n",
        "merged_df.to_csv('/content/drive/MyDrive/datacard/latest_datasets/unified_dataset.csv', index=False)\n",
        "\n",
        "#Display\n",
        "merged_df.head()"
      ],
      "metadata": {
        "id": "moe0MIkIvdvv"
      },
      "execution_count": null,
      "outputs": []
    },
    {
      "cell_type": "markdown",
      "source": [
        "# Yeni Bölüm"
      ],
      "metadata": {
        "id": "LJimjvOHVllC"
      }
    }
  ]
}