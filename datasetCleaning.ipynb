{
  "nbformat": 4,
  "nbformat_minor": 0,
  "metadata": {
    "colab": {
      "provenance": [],
      "toc_visible": true,
      "include_colab_link": true
    },
    "kernelspec": {
      "name": "python3",
      "display_name": "Python 3"
    },
    "language_info": {
      "name": "python"
    }
  },
  "cells": [
    {
      "cell_type": "markdown",
      "metadata": {
        "id": "view-in-github",
        "colab_type": "text"
      },
      "source": [
        "<a href=\"https://colab.research.google.com/github/UCLM-ESI-NECULA/DataMining/blob/master/datasetCleaning.ipynb\" target=\"_parent\"><img src=\"https://colab.research.google.com/assets/colab-badge.svg\" alt=\"Open In Colab\"/></a>"
      ]
    },
    {
      "cell_type": "markdown",
      "source": [
        "# Nuova sezione"
      ],
      "metadata": {
        "id": "V23v2M_XgZqT"
      }
    },
    {
      "cell_type": "code",
      "source": [
        "from google.colab import drive\n",
        "drive.mount('/content/drive')"
      ],
      "metadata": {
        "id": "yuh33GVIOywo",
        "colab": {
          "base_uri": "https://localhost:8080/"
        },
        "outputId": "791959ee-a368-4069-b1af-4e9b79118b0a"
      },
      "execution_count": null,
      "outputs": [
        {
          "output_type": "stream",
          "name": "stdout",
          "text": [
            "Mounted at /content/drive\n"
          ]
        }
      ]
    },
    {
      "cell_type": "code",
      "source": [
        "!rm -rf sample_data/"
      ],
      "metadata": {
        "id": "dpMqq5MapYde"
      },
      "execution_count": null,
      "outputs": []
    },
    {
      "cell_type": "code",
      "source": [
        "import numpy as np\n",
        "import pandas as pd\n",
        "import os\n",
        "import re\n",
        "\n",
        "DS1  = 'DS1-DatosConsumoAlimentario.txt'\n",
        "DS2  = 'DS2-PreciosSemanales.txt'\n",
        "DS3A = 'DS3A-DatosMercaMadrid.txt'\n",
        "DS3B = 'DS3B-DatosMercaBarna.txt'\n",
        "DS4  = 'DS4-ComercioExterior.txt'\n",
        "DS5  = 'DS5-CoronavirusCases.txt'\n",
        "DS6  = 'DS6-owid-covid-data.csv'\n",
        "\n",
        "\n",
        "DS3Transformed = 'DS3-Transformed'\n",
        "\n",
        "# Directory path\n",
        "dir_path = '/content/drive/MyDrive/Scuola/UCLM/Colab Notebooks/Datasets/'"
      ],
      "metadata": {
        "id": "VO9Ab3ucu3ir"
      },
      "execution_count": null,
      "outputs": []
    },
    {
      "cell_type": "markdown",
      "source": [
        "#DS1"
      ],
      "metadata": {
        "id": "uC-zApAezKOm"
      }
    },
    {
      "cell_type": "code",
      "source": [
        "#Read dataset\n",
        "df_1 = pd.read_csv(dir_path + DS1, sep='|',decimal=',')\n",
        "\n",
        "# Remove the empty columns\n",
        "print(df_1.isnull().sum()) #checking if I  have empty values there are 2 empty columns and 120 rows without penetration\n",
        "df = df_1.drop(['Penetración (%)','Unnamed: 10', 'Unnamed: 11'], axis=1)\n"
      ],
      "metadata": {
        "id": "lsYcFA6Ipfnc"
      },
      "execution_count": null,
      "outputs": []
    },
    {
      "cell_type": "markdown",
      "source": [
        "In this dataset, datas are not sorted and so we sorted it for data analyzing"
      ],
      "metadata": {
        "id": "djrqi3gUkemR"
      }
    },
    {
      "cell_type": "code",
      "source": [
        "#enumarate the months\n",
        "df_1['Mes'] = df_1['Mes'].map({'Enero':1, 'Febrero':2, 'Marzo':3,'Abril':4,'Mayo':5,'Junio':6,'Julio':7,'Agosto':8,'Septiembre':9,'Octubre':10,'Noviembre':11,'Diciembre':12})\n",
        "df_1.sort_values(by=['Año','Mes','CCAA'])\n",
        "print(df_1['CCAA'].value_counts())\n",
        "print(df_1[df_1['Año']==2020]['CCAA'].value_counts())\n",
        "#so after 2020 junio we have just the total national datas thats why some  months have higher frequency.last 120 rows are just total national"
      ],
      "metadata": {
        "id": "I242A9_blVCC"
      },
      "execution_count": null,
      "outputs": []
    },
    {
      "cell_type": "markdown",
      "source": [
        "For creating the data card, some of the products name has to be changed (we will compare the products from DS1 and DS2 and add labels to DS1)"
      ],
      "metadata": {
        "id": "2UivhDNY-AOp"
      }
    },
    {
      "cell_type": "code",
      "source": [
        "df_1['Producto'] = df_1['Producto'].replace('MELON', 'MELONES')\n",
        "df_1['Producto'] = df_1['Producto'].replace('CHAMPIÑONES+O.SETAS','CHAMPIÑONES')\n",
        "df_1['Producto'] = df_1['Producto'].replace('FRESAS/FRESON', 'FRESONES')\n",
        "df_1['Producto'] = df_1['Producto'].replace('LECHUGA/ESC./ENDIVIA', 'LECHUGAS')\n",
        "df_1['Producto'] = df_1['Producto'].replace('MANGO', 'MANGOS')\n",
        "df_1['Producto'] = df_1['Producto'].replace('PIÑA', 'PIÑAS')\n",
        "df_1['Producto'] = df_1['Producto'].replace('PUERRO', 'PUERROS')\n",
        "df_1['Producto'] = df_1['Producto'].replace('SANDIA', 'SANDIAS')\n",
        "df_1['Producto'] = df_1['Producto'].replace('CHIRIMOYA', 'CHIRIMOYAS')"
      ],
      "metadata": {
        "id": "OKRRe_f3AVIj"
      },
      "execution_count": null,
      "outputs": []
    },
    {
      "cell_type": "markdown",
      "source": [
        "In this Dataset we have separate data for all CCAA of Spain, and 1 more category which is Total.Since we have already the total we can eliminate the others but firstly we need to check if the Total is sum/average of the other CCAAs."
      ],
      "metadata": {
        "id": "t44wUBzrnrCX"
      }
    },
    {
      "cell_type": "code",
      "source": [
        "#this block of code helps us to compare the datas between other CCAAs and the total Nacionales\n",
        "for x in range(2018,2021):\n",
        "    for y in range(1,13):\n",
        "        # Step 1: Sum Volumen and Valor excluding Total Nacional for the month 1, grouped by Producto\n",
        "        sum_volumen_by_producto = df_1[(df_1['CCAA'] != 'Total Nacional') & (df_1['Mes'] == y) &(df_1['Año']==x)].groupby('Producto')['Volumen (miles de kg)'].sum()\n",
        "        sum_valor_by_producto = df_1[(df_1['CCAA'] != 'Total Nacional') & (df_1['Mes'] == y)&(df_1['Año']==x)].groupby('Producto')['Valor (miles de €)'].sum()\n",
        "        # Step 2: Calculate the average of Precio Medio excluding Total Nacional for the month 1, grouped by Producto\n",
        "        avg_precio_medio_by_producto = df_1[(df['CCAA'] != 'Total Nacional') & (df_1['Mes'] == y)&(df_1['Año']==x)].groupby('Producto')['Precio medio kg'].mean()\n",
        "        sum_volumen_by_producto = df_1[(df_1['CCAA'] != 'Total Nacional') & (df_1['Mes'] == y) &(df_1['Año']==x)].groupby('Producto')['Volumen (miles de kg)'].sum()\n",
        "        # Step 3: Compare with Total Nacional values for the month 1, grouped by Producto\n",
        "        total_nacional_values_by_producto = df_1[(df_1['CCAA'] == 'Total Nacional') & (df_1['Mes'] == y)&(df_1['Año']==x)].groupby('Producto').agg({\n",
        "            'Volumen (miles de kg)': 'first',\n",
        "            'Valor (miles de €)': 'first',\n",
        "            'Precio medio kg': 'first'\n",
        "        })\n",
        "        print(f\"Sum of Volumen of the year:{x}and the month:{y}(excluding Total Nacional) grouped by Producto:\")\n",
        "        print(sum_volumen_by_producto)\n",
        "        print(f\"\\nSum of Valor of the year:{x}and the month:{y}(excluding Total Nacional) grouped by Producto:\")\n",
        "        print(sum_valor_by_producto)\n",
        "        print(f\"\\nAverage Precio Medio of the year:{x}and the month:{y}(excluding Total Nacional) grouped by Producto:\")\n",
        "        print(avg_precio_medio_by_producto)\n",
        "        # Compare with Total Nacional values grouped by Producto\n",
        "        print(f\"\\nTotal Nacional values of the year:{x}and the month:{y} grouped by Producto:\")\n",
        "        print(total_nacional_values_by_producto)"
      ],
      "metadata": {
        "id": "cMJElJMJyQgX"
      },
      "execution_count": null,
      "outputs": []
    },
    {
      "cell_type": "markdown",
      "source": [
        "So after checking we saw that Total Nacional datas are calculated correctly and since after 2020 june we just have the Total Nacional datas we can dropp the other CCAAs and save it"
      ],
      "metadata": {
        "id": "tAUSAElozsRZ"
      }
    },
    {
      "cell_type": "code",
      "source": [
        "df_total_nacional = df_1[df_1['CCAA'] == 'Total Nacional'].copy()\n",
        "#Saving the cleaned dataset\n",
        "df_total_nacional.to_csv(dir_path + 'Cleaned_' + DS1, sep='|', index=False)"
      ],
      "metadata": {
        "id": "dpFPrzWo0Xn5"
      },
      "execution_count": null,
      "outputs": []
    },
    {
      "cell_type": "markdown",
      "source": [
        "#DS2"
      ],
      "metadata": {
        "id": "TBRePLI7y4Zs"
      }
    },
    {
      "cell_type": "code",
      "source": [
        "import pandas as pd\n",
        "import numpy as np\n",
        "\n",
        "# Read the data from the TXT file into a DataFrame\n",
        "df_2 = pd.read_csv(dir_path + DS2, sep='|',decimal=',')\n",
        "\n",
        "#Getting a sample of the data\n",
        "df_2 = df_2[['INICIO','FIN','SECTOR','SUBSECTOR','PRODUCTO','PRECIO']]\n",
        "\n",
        "#Dropping all rows that contain 'nan'\n",
        "df_2 = df_2.dropna(subset=['PRODUCTO'])\n",
        "\n",
        "#Removing the useless information product\n",
        "df_2['PRODUCTO'] = df_2['PRODUCTO'].str.replace(r'\\(.*\\)', '', regex=True)\n",
        "\n",
        "df_2.head(500)\n"
      ],
      "metadata": {
        "id": "HIUw1vGtJEbR"
      },
      "execution_count": null,
      "outputs": []
    },
    {
      "cell_type": "code",
      "source": [
        "#List of the products\n",
        "unique_products = df_2['PRODUCTO'].unique()\n",
        "\n",
        "print(unique_products)\n"
      ],
      "metadata": {
        "id": "QEW9RCOFkLm6"
      },
      "execution_count": null,
      "outputs": []
    },
    {
      "cell_type": "code",
      "source": [
        "#Handling the dates\n",
        "df_2['INICIO'] = pd.to_datetime(df_2['INICIO'], format='%d/%m/%Y')\n",
        "df_2['FIN'] = pd.to_datetime(df_2['FIN'], format='%d/%m/%Y')\n",
        "df_2['Year'] = df_2['INICIO'].dt.year\n",
        "df_2['Month_INICIO'] = df_2['INICIO'].dt.month\n",
        "df_2['Month_FIN'] = df_2['FIN'].dt.month\n",
        "\n",
        "#Ordering the df product by product according to the unique products list\n",
        "df_2['PRODUCTO'] = pd.Categorical(df_2['PRODUCTO'], categories=unique_products, ordered=True)\n",
        "df_2 = df_2.sort_values('PRODUCTO')\n",
        "\n",
        "#Reseting index after sorting\n",
        "df_2.reset_index(drop=True, inplace=True)\n",
        "\n",
        "#Redordering the dataframe\n",
        "df_2 = df_2.reindex(columns=['Year','Month_INICIO','Month_FIN','SECTOR','SUBSECTOR','PRODUCTO','PRECIO'])\n",
        "df_2 = df_2.sort_values(by=['Year','Month_INICIO','Month_FIN','PRODUCTO'])\n",
        "\n",
        "df_2.head()\n",
        "\n",
        "df_2.to_csv(dir_path + 'Cleaned_' + DS1, sep='|', index=False)"
      ],
      "metadata": {
        "id": "bDKNYi-MkRrt"
      },
      "execution_count": null,
      "outputs": []
    },
    {
      "cell_type": "markdown",
      "source": [
        "#DS3"
      ],
      "metadata": {
        "id": "G2hMHkx4zlsV"
      }
    },
    {
      "cell_type": "markdown",
      "source": [
        "For the third Dataset we had to do something different, we had to merge them.\n",
        "\n",
        "\n",
        "\n",
        "*   First we removed the **Unidad** column, which had a constant value of 'KG'\n",
        "*   Then we Unified the **Familia** column, because we didn't needed the specific family category\n",
        "\n",
        "*   We unified the column **Familia** in order to have 2 big categories, Fruits, and Vegetables. We kept the 'Other' and 'Seta' categories, even if our statements are not regarding them.\n",
        "\n",
        "\n",
        "\n",
        "\n",
        "\n"
      ],
      "metadata": {
        "id": "cAo2krGzeCP7"
      }
    },
    {
      "cell_type": "code",
      "source": [
        "# Removing the column 'price_min' 'price_max' from dataset A\n",
        "# Removing Unidad from both because is not needed, is only KG,\n",
        "\n",
        "df1 = pd.read_csv(dir_path + DS3A, sep='|', usecols=['product', 'origen', 'familia', 'YEAR', 'MONTH', 'price_mean', 'Volumen'])\n",
        "df2 = pd.read_csv(dir_path + DS3B, sep='|', usecols=['product', 'origen', 'familia', 'YEAR', 'MONTH', 'price_mean', 'Volumen'])\n"
      ],
      "metadata": {
        "id": "t9pggOaYpbO2"
      },
      "execution_count": null,
      "outputs": []
    },
    {
      "cell_type": "code",
      "source": [
        "# Function to correct misinterpreted UTF-8 encoded text\n",
        "def normalize_text(text):\n",
        "    if isinstance(text, str):\n",
        "        try:\n",
        "            return text.encode('iso-8859-1').decode('utf-8')\n",
        "        except UnicodeDecodeError:\n",
        "            # In case of decode error, return the original text\n",
        "            return text\n",
        "    return text\n",
        "\n",
        "# Apply the function to all the data in both dataframes\n",
        "df1 = df1.applymap(normalize_text)\n",
        "df2 = df2.applymap(normalize_text)"
      ],
      "metadata": {
        "id": "VhIINj_Lr2_V"
      },
      "execution_count": null,
      "outputs": []
    },
    {
      "cell_type": "code",
      "source": [
        "# Define a patterns\n",
        "pattern_frutas = re.compile(r'^FRUTAS.*')\n",
        "pattern_hortalizas = re.compile(r'^HORTALIZAS.*')\n",
        "\n",
        "for df in [df1, df2]:\n",
        "    # Replace 'ULTRAMARINO' with 'FRUTAS'\n",
        "    df['familia'] = df['familia'].replace('ULTRAMARINO', 'FRUTAS')\n",
        "\n",
        "    # Replace 'OTROS OTROS' with 'OTROS'\n",
        "    df['familia'] = df['familia'].replace('OTROS OTROS', 'OTROS')\n",
        "\n",
        "    # Replace 'OTROS SETA' with 'SETA'\n",
        "    df['familia'] = df['familia'].replace('OTROS SETA', 'SETA')\n",
        "\n",
        "    # Replace 'PATATAS' with 'HORTALIZAS'\n",
        "    df['familia'] = df['familia'].replace('PATATAS', 'HORTALIZAS')\n",
        "\n",
        "    # Replace 'FRUTAS ...' with 'FRUTAS'\n",
        "    df['familia'] = df['familia'].replace(pattern_frutas, 'FRUTAS', regex=True)\n",
        "\n",
        "    # Replace 'HORTALIZAS ...' with 'HORTALIZAS'\n",
        "    df['familia'] = df['familia'].replace(pattern_hortalizas, 'HORTALIZAS', regex=True)"
      ],
      "metadata": {
        "id": "y0oRcZ-bpjwM"
      },
      "execution_count": null,
      "outputs": []
    },
    {
      "cell_type": "code",
      "source": [
        "# Replacing comma in numbers with dot for proper numeric conversion\n",
        "df1['price_mean'] = df1['price_mean'].str.replace(',', '.').astype(float)\n",
        "df2['price_mean'] = df2['price_mean'].str.replace(',', '.').astype(float)\n",
        "\n",
        "# Merging the two datasets\n",
        "merged_df = pd.concat([df1, df2])\n",
        "\n",
        "# Grouping by common columns and calculating the mean of 'price_mean', and the 'sum' of the volume\n",
        "grouped_df = merged_df.groupby(['product', 'origen', 'familia', 'YEAR', 'MONTH'], as_index=False) \\\n",
        "              .agg({'price_mean': 'mean', 'Volumen': 'sum'})"
      ],
      "metadata": {
        "id": "_ccKwT4kp0R9"
      },
      "execution_count": null,
      "outputs": []
    },
    {
      "cell_type": "code",
      "source": [
        "# Define file paths for the output CSV files\n",
        "output_file_path = os.path.join(dir_path,DS3Transformed,\"DS3-ProductData\")\n",
        "output_file_path1 = os.path.join(dir_path,DS3Transformed,DS3A)\n",
        "output_file_path2 = os.path.join(dir_path,DS3Transformed,DS3B)\n",
        "\n",
        "# Save the DataFrames to CSV files\n",
        "df1.to_csv(output_file_path1, sep='|', index=False)\n",
        "df2.to_csv(output_file_path2, sep='|', index=False)\n",
        "grouped_df.to_csv(output_file_path, sep='|', index=False)\n"
      ],
      "metadata": {
        "id": "7PTqiJGhzntD"
      },
      "execution_count": null,
      "outputs": []
    },
    {
      "cell_type": "code",
      "source": [
        "null_values_df = grouped_df.isnull().any()\n",
        "print(\"Null values in dfa:\\n\", null_values_df)"
      ],
      "metadata": {
        "id": "gJpun61SsKsv"
      },
      "execution_count": null,
      "outputs": []
    },
    {
      "cell_type": "code",
      "source": [
        "import matplotlib.pyplot as plt\n",
        "import matplotlib as mpl\n",
        "import pandas as pd\n",
        "\n",
        "mpl.style.use(\"seaborn\")\n",
        "\n",
        "# Combine 'YEAR' and 'MONTH' into a single datetime column\n",
        "grouped_df = grouped_df[grouped_df['familia'] != 'OTROS SETAS']\n",
        "\n",
        "grouped_df['Date'] = pd.to_datetime(grouped_df['YEAR'].astype(str) + '-' + grouped_df['MONTH'].astype(str))\n",
        "\n",
        "grouped_df.head()\n",
        "# Calculating the mean price for each family over time\n",
        "mean_price_per_family_time = grouped_df.groupby(['familia', 'Date'])['price_mean'].mean()\n",
        "\n",
        "# Pivot the data for plotting\n",
        "pivot_data = mean_price_per_family_time.reset_index().pivot(index='Date', columns='familia', values='price_mean')\n",
        "\n",
        "# Plotting the mean price for each family over time\n",
        "pivot_data.plot(kind='line', figsize=(12, 6))\n",
        "plt.title(\"Average Price per Family Over Time\")\n",
        "plt.ylabel(\"Average Price\")\n",
        "plt.xlabel(\"Date\")\n",
        "plt.xticks(rotation=45)\n",
        "plt.legend(title='Family')\n",
        "plt.show()\n",
        "\n"
      ],
      "metadata": {
        "colab": {
          "base_uri": "https://localhost:8080/",
          "height": 648
        },
        "id": "_ka3xNk_uErH",
        "outputId": "7db4e867-5567-4697-9a2d-3ff57518d6b1"
      },
      "execution_count": null,
      "outputs": [
        {
          "output_type": "stream",
          "name": "stderr",
          "text": [
            "<ipython-input-59-1ab27502bfa9>:5: MatplotlibDeprecationWarning: The seaborn styles shipped by Matplotlib are deprecated since 3.6, as they no longer correspond to the styles shipped by seaborn. However, they will remain available as 'seaborn-v0_8-<style>'. Alternatively, directly use the seaborn API instead.\n",
            "  mpl.style.use(\"seaborn\")\n"
          ]
        },
        {
          "output_type": "display_data",
          "data": {
            "text/plain": [
              "<Figure size 1200x600 with 1 Axes>"
            ],
            "image/png": "[encoded data removed]"
          },
          "metadata": {}
        }
      ]
    },
    {
      "cell_type": "markdown",
      "source": [
        "#DS4"
      ],
      "metadata": {
        "id": "_DyxFAZqsqk8"
      }
    },
    {
      "cell_type": "code",
      "source": [
        "#Reading the data from the TXT file into a DataFrame\n",
        "df = pd.read_csv(\"/content/drive/MyDrive/mycolab/DS4-ComercioExterior.txt\", sep='|')\n",
        "\n",
        "# Remove duplicates\n",
        "df = df.drop_duplicates()\n",
        "\n",
        "#Handling missing values\n",
        "df = df.dropna()\n",
        "\n",
        "#Dropping the partner column\n",
        "df.drop('PARTNER', axis=1, inplace=True)\n",
        "\n",
        "#Replacing 'IMPORT' with 0 and 'EXPORT' with 1 in the \"FLOW\" column.\n",
        "df['FLOW'] = df['FLOW'].map({'IMPORT': 0, 'EXPORT': 1})\n",
        "\n",
        "#Identify rows where 'PERIOD' cannot be converted to datetime\n",
        "invalid_rows = ~df['PERIOD'].str.match(r'^[a-zA-Z]{3}\\.\\s\\d{4}$')\n",
        "\n",
        "#Removing the invalid rows\n",
        "df = df[~invalid_rows]\n",
        "\n",
        "#Converting 'PERIOD' to datetime format\n",
        "df['PERIOD'] = pd.to_datetime(df['PERIOD'], errors='coerce')\n",
        "\n",
        "#Extracting Month and Year into separate columns and write months as numbers\n",
        "df['MONTH'] = df['PERIOD'].dt.month\n",
        "df['YEAR'] = df['PERIOD'].dt.year\n",
        "\n",
        "#Filtering rows where 'Value' is not empty\n",
        "df = df[df['Value'] != ':']\n",
        "\n",
        "#Dropping the original 'PERIOD' column\n",
        "df.drop('PERIOD', axis=1, inplace=True)\n",
        "\n",
        "#Removing the useless information from reporter and product\n",
        "df['REPORTER'] = df['REPORTER'].str.replace(r'\\(.*\\)', '', regex=True)\n",
        "df['REPORTER'] = df['REPORTER'].str.split('-').str[0].str.strip()\n",
        "df['PRODUCT'] = df['PRODUCT'].str.replace(r'\\(.*\\)', '', regex=True)\n",
        "df['PRODUCT'] = df['PRODUCT'].str.split(',').str[0]\n",
        "\n",
        "#Redordering the dataframe\n",
        "df = df.reindex(columns=['YEAR','MONTH','REPORTER',\t'PRODUCT',\t'FLOW',\t'INDICATORS',\t'Value'])\n",
        "df = df.sort_values(by=['YEAR','MONTH','PRODUCT'])\n",
        "df.head()"
      ],
      "metadata": {
        "id": "MNgH8rEwspjh"
      },
      "execution_count": null,
      "outputs": []
    },
    {
      "cell_type": "markdown",
      "source": [
        "#DS5"
      ],
      "metadata": {
        "id": "somgIyjQs1ub"
      }
    },
    {
      "cell_type": "markdown",
      "source": [
        "We processed both of the datasets we provided for coronavirus. We saw that the first one didn't have enough data for us so we'll only use the \"owid-covid-data.csv\"."
      ],
      "metadata": {
        "id": "rrtLApRA2rVr"
      }
    },
    {
      "cell_type": "code",
      "source": [
        "#Read dataset\n",
        "df = pd.read_csv(dir_path+DS5, sep='|')\n",
        "df.head()\n",
        "\n",
        "#Create a new df for Spain\n",
        "df_spain = df[df[\"countriesAndTerritories\"]=='Spain']\n",
        "df_spain.head()\n",
        "\n",
        "# Summing up the cases of the same month\n",
        "df_spain['dateRep'] = pd.to_datetime(df_spain['dateRep'], format='%d/%m/%Y')\n",
        "df_spain['month'] = df_spain['dateRep'].dt.month\n",
        "df_spain['year'] = df_spain['dateRep'].dt.year\n",
        "\n",
        "cleaned_ds5 = df_spain.groupby(['year','month'])['cases'].sum().reset_index()\n",
        "\n",
        "print(cleaned_ds5)"
      ],
      "metadata": {
        "id": "OQ_4R5Rq3eId"
      },
      "execution_count": null,
      "outputs": []
    },
    {
      "cell_type": "code",
      "source": [
        "#Reading the dataset (owid)\n",
        "df = pd.read_csv(dir_path+DS6)\n",
        "\n",
        "#Creating a new dataset for Spain\n",
        "df_spain = df[df[\"location\"]=='Spain']\n",
        "df_spain.head()\n",
        "df_spain = df_spain[['date','total_cases']]\n",
        "\n",
        "#Replacing NaN values to 0\n",
        "df_spain.fillna(0, inplace=True)\n",
        "\n",
        "#Handling the dates\n",
        "df_spain['date'] = pd.to_datetime(df_spain['date'], format='%Y/%m/%d')\n",
        "df_spain['month'] = df_spain['date'].dt.month\n",
        "df_spain['year'] = df_spain['date'].dt.year\n",
        "\n",
        "#Accessing the last day of the month to reach the total_cases and putting them into a dataframe and ordering the dataframe\n",
        "last_day_of_month = df_spain.groupby(['year', 'month'])['date'].max().reset_index()\n",
        "last_day_cases = pd.merge(last_day_of_month, df_spain, on=['year', 'month', 'date'], how='left')[['year', 'month', 'total_cases']]\n",
        "last_df= last_day_cases.groupby(['year', 'month'])['total_cases'].sum().reset_index()\n",
        "\n",
        "last_df.head()"
      ],
      "metadata": {
        "id": "eXiIX9zPs69y"
      },
      "execution_count": null,
      "outputs": []
    }
  ]
}